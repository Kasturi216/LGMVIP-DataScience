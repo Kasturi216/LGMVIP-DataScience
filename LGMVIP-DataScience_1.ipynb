{
 "cells": [
  {
   "cell_type": "markdown",
   "id": "dec8d2cb",
   "metadata": {},
   "source": [
    "<font color='green'><h1> LGM Virtual Internship Program </h1></font>"
   ]
  },
  {
   "cell_type": "markdown",
   "id": "84afd80a",
   "metadata": {},
   "source": [
    "<b> Data Science Virtual Internship </b>"
   ]
  },
  {
   "cell_type": "markdown",
   "id": "96dea362",
   "metadata": {},
   "source": [
    "<b>Task 1 of Beginner Level : Classification using Support Vector Classifier</b>"
   ]
  },
  {
   "cell_type": "markdown",
   "id": "92560ff2",
   "metadata": {},
   "source": [
    "<b>Submitted By: Kasturi Basu</b>"
   ]
  },
  {
   "cell_type": "markdown",
   "id": "367bc23a",
   "metadata": {},
   "source": [
    "<h3><li> Loading Libraries </li></h3>"
   ]
  },
  {
   "cell_type": "code",
   "execution_count": 1,
   "id": "12879f33",
   "metadata": {},
   "outputs": [],
   "source": [
    "import numpy as np\n",
    "import pandas as pd\n",
    "import matplotlib.pyplot as plt\n",
    "from sklearn.datasets import load_iris\n",
    "import seaborn as sns"
   ]
  },
  {
   "cell_type": "markdown",
   "id": "57658dbc",
   "metadata": {},
   "source": [
    "<h3><li> Loading the dataset </li></h3>"
   ]
  },
  {
   "cell_type": "code",
   "execution_count": 2,
   "id": "2e66e8c7",
   "metadata": {},
   "outputs": [],
   "source": [
    "iris=load_iris()"
   ]
  },
  {
   "cell_type": "code",
   "execution_count": 3,
   "id": "87bb9099",
   "metadata": {},
   "outputs": [],
   "source": [
    "irisdf=pd.DataFrame(iris.data,columns=iris.feature_names)"
   ]
  },
  {
   "cell_type": "code",
   "execution_count": 4,
   "id": "76004a0c",
   "metadata": {},
   "outputs": [
    {
     "data": {
      "text/html": [
       "<div>\n",
       "<style scoped>\n",
       "    .dataframe tbody tr th:only-of-type {\n",
       "        vertical-align: middle;\n",
       "    }\n",
       "\n",
       "    .dataframe tbody tr th {\n",
       "        vertical-align: top;\n",
       "    }\n",
       "\n",
       "    .dataframe thead th {\n",
       "        text-align: right;\n",
       "    }\n",
       "</style>\n",
       "<table border=\"1\" class=\"dataframe\">\n",
       "  <thead>\n",
       "    <tr style=\"text-align: right;\">\n",
       "      <th></th>\n",
       "      <th>sepal length (cm)</th>\n",
       "      <th>sepal width (cm)</th>\n",
       "      <th>petal length (cm)</th>\n",
       "      <th>petal width (cm)</th>\n",
       "    </tr>\n",
       "  </thead>\n",
       "  <tbody>\n",
       "    <tr>\n",
       "      <th>0</th>\n",
       "      <td>5.1</td>\n",
       "      <td>3.5</td>\n",
       "      <td>1.4</td>\n",
       "      <td>0.2</td>\n",
       "    </tr>\n",
       "    <tr>\n",
       "      <th>1</th>\n",
       "      <td>4.9</td>\n",
       "      <td>3.0</td>\n",
       "      <td>1.4</td>\n",
       "      <td>0.2</td>\n",
       "    </tr>\n",
       "    <tr>\n",
       "      <th>2</th>\n",
       "      <td>4.7</td>\n",
       "      <td>3.2</td>\n",
       "      <td>1.3</td>\n",
       "      <td>0.2</td>\n",
       "    </tr>\n",
       "    <tr>\n",
       "      <th>3</th>\n",
       "      <td>4.6</td>\n",
       "      <td>3.1</td>\n",
       "      <td>1.5</td>\n",
       "      <td>0.2</td>\n",
       "    </tr>\n",
       "    <tr>\n",
       "      <th>4</th>\n",
       "      <td>5.0</td>\n",
       "      <td>3.6</td>\n",
       "      <td>1.4</td>\n",
       "      <td>0.2</td>\n",
       "    </tr>\n",
       "    <tr>\n",
       "      <th>5</th>\n",
       "      <td>5.4</td>\n",
       "      <td>3.9</td>\n",
       "      <td>1.7</td>\n",
       "      <td>0.4</td>\n",
       "    </tr>\n",
       "    <tr>\n",
       "      <th>6</th>\n",
       "      <td>4.6</td>\n",
       "      <td>3.4</td>\n",
       "      <td>1.4</td>\n",
       "      <td>0.3</td>\n",
       "    </tr>\n",
       "  </tbody>\n",
       "</table>\n",
       "</div>"
      ],
      "text/plain": [
       "   sepal length (cm)  sepal width (cm)  petal length (cm)  petal width (cm)\n",
       "0                5.1               3.5                1.4               0.2\n",
       "1                4.9               3.0                1.4               0.2\n",
       "2                4.7               3.2                1.3               0.2\n",
       "3                4.6               3.1                1.5               0.2\n",
       "4                5.0               3.6                1.4               0.2\n",
       "5                5.4               3.9                1.7               0.4\n",
       "6                4.6               3.4                1.4               0.3"
      ]
     },
     "execution_count": 4,
     "metadata": {},
     "output_type": "execute_result"
    }
   ],
   "source": [
    "irisdf.head(7)"
   ]
  },
  {
   "cell_type": "code",
   "execution_count": 5,
   "id": "98d25885",
   "metadata": {},
   "outputs": [],
   "source": [
    "irisdf['target']=iris.target\n",
    "irisdf['target names']=irisdf.target.apply(lambda x: iris.target_names[x])"
   ]
  },
  {
   "cell_type": "code",
   "execution_count": 6,
   "id": "c7713437",
   "metadata": {},
   "outputs": [
    {
     "data": {
      "text/html": [
       "<div>\n",
       "<style scoped>\n",
       "    .dataframe tbody tr th:only-of-type {\n",
       "        vertical-align: middle;\n",
       "    }\n",
       "\n",
       "    .dataframe tbody tr th {\n",
       "        vertical-align: top;\n",
       "    }\n",
       "\n",
       "    .dataframe thead th {\n",
       "        text-align: right;\n",
       "    }\n",
       "</style>\n",
       "<table border=\"1\" class=\"dataframe\">\n",
       "  <thead>\n",
       "    <tr style=\"text-align: right;\">\n",
       "      <th></th>\n",
       "      <th>sepal length (cm)</th>\n",
       "      <th>sepal width (cm)</th>\n",
       "      <th>petal length (cm)</th>\n",
       "      <th>petal width (cm)</th>\n",
       "      <th>target</th>\n",
       "      <th>target names</th>\n",
       "    </tr>\n",
       "  </thead>\n",
       "  <tbody>\n",
       "    <tr>\n",
       "      <th>0</th>\n",
       "      <td>5.1</td>\n",
       "      <td>3.5</td>\n",
       "      <td>1.4</td>\n",
       "      <td>0.2</td>\n",
       "      <td>0</td>\n",
       "      <td>setosa</td>\n",
       "    </tr>\n",
       "    <tr>\n",
       "      <th>1</th>\n",
       "      <td>4.9</td>\n",
       "      <td>3.0</td>\n",
       "      <td>1.4</td>\n",
       "      <td>0.2</td>\n",
       "      <td>0</td>\n",
       "      <td>setosa</td>\n",
       "    </tr>\n",
       "    <tr>\n",
       "      <th>2</th>\n",
       "      <td>4.7</td>\n",
       "      <td>3.2</td>\n",
       "      <td>1.3</td>\n",
       "      <td>0.2</td>\n",
       "      <td>0</td>\n",
       "      <td>setosa</td>\n",
       "    </tr>\n",
       "  </tbody>\n",
       "</table>\n",
       "</div>"
      ],
      "text/plain": [
       "   sepal length (cm)  sepal width (cm)  petal length (cm)  petal width (cm)  \\\n",
       "0                5.1               3.5                1.4               0.2   \n",
       "1                4.9               3.0                1.4               0.2   \n",
       "2                4.7               3.2                1.3               0.2   \n",
       "\n",
       "   target target names  \n",
       "0       0       setosa  \n",
       "1       0       setosa  \n",
       "2       0       setosa  "
      ]
     },
     "execution_count": 6,
     "metadata": {},
     "output_type": "execute_result"
    }
   ],
   "source": [
    "irisdf.head(3)"
   ]
  },
  {
   "cell_type": "markdown",
   "id": "ee8376f9",
   "metadata": {},
   "source": [
    "<h3><li> Data visualization </li></h3>"
   ]
  },
  {
   "cell_type": "code",
   "execution_count": 7,
   "id": "5211d33e",
   "metadata": {},
   "outputs": [],
   "source": [
    "df1=irisdf[irisdf['target']==0]\n",
    "df2=irisdf[irisdf['target']==1]\n",
    "df3=irisdf[irisdf['target']==2]"
   ]
  },
  {
   "cell_type": "code",
   "execution_count": 8,
   "id": "f703abf3",
   "metadata": {},
   "outputs": [
    {
     "data": {
      "image/png": "[encoded data removed]",
      "text/plain": [
       "<Figure size 1080x504 with 1 Axes>"
      ]
     },
     "metadata": {
      "needs_background": "light"
     },
     "output_type": "display_data"
    }
   ],
   "source": [
    "plt.figure(figsize=(15,7))\n",
    "plt.xlabel('petal length(cm)')\n",
    "plt.ylabel('petal width(cm)')\n",
    "plt.scatter(df1['petal length (cm)'],df1['petal width (cm)'], color='red',marker='o')\n",
    "plt.scatter(df2['petal length (cm)'],df2['petal width (cm)'], color='green',marker='*')\n",
    "plt.scatter(df3['petal length (cm)'],df3['petal width (cm)'], color='blue',marker='+')\n",
    "plt.title('Classification of flowers on petal length and width')\n",
    "plt.legend(['Iris Setosa','Iris Versicolor','Iris Virginica'])\n",
    "plt.show()"
   ]
  },
  {
   "cell_type": "markdown",
   "id": "a46288cb",
   "metadata": {},
   "source": [
    "<h3><li> Data preprocessing </li></h3>"
   ]
  },
  {
   "cell_type": "code",
   "execution_count": 9,
   "id": "c4fff478",
   "metadata": {},
   "outputs": [],
   "source": [
    "X=irisdf.iloc[:,0:4].values\n",
    "y=irisdf.iloc[:,4]"
   ]
  },
  {
   "cell_type": "markdown",
   "id": "f7893fba",
   "metadata": {},
   "source": [
    "<h3><li> Data splitting </li></h3>"
   ]
  },
  {
   "cell_type": "code",
   "execution_count": 10,
   "id": "fc6dcfc9",
   "metadata": {},
   "outputs": [],
   "source": [
    "from sklearn.model_selection import train_test_split\n",
    "X_train,X_test,y_train,y_test=train_test_split(X,y,test_size=0.25,random_state=45)"
   ]
  },
  {
   "cell_type": "markdown",
   "id": "c1eb3c66",
   "metadata": {},
   "source": [
    "<h3><li> Model Traing </li></h3>"
   ]
  },
  {
   "cell_type": "code",
   "execution_count": 11,
   "id": "ead48a37",
   "metadata": {},
   "outputs": [],
   "source": [
    "from sklearn.svm import SVC\n",
    "svc=SVC(C=7)"
   ]
  },
  {
   "cell_type": "code",
   "execution_count": 12,
   "id": "0e215c7c",
   "metadata": {},
   "outputs": [
    {
     "data": {
      "text/plain": [
       "SVC(C=7)"
      ]
     },
     "execution_count": 12,
     "metadata": {},
     "output_type": "execute_result"
    }
   ],
   "source": [
    "svc.fit(X_train,y_train)"
   ]
  },
  {
   "cell_type": "code",
   "execution_count": 13,
   "id": "3ab14fac",
   "metadata": {},
   "outputs": [
    {
     "data": {
      "text/plain": [
       "array([0, 0, 2, 0, 0])"
      ]
     },
     "execution_count": 13,
     "metadata": {},
     "output_type": "execute_result"
    }
   ],
   "source": [
    "y_pred=svc.predict(X_test)\n",
    "y_pred[:5]"
   ]
  },
  {
   "cell_type": "markdown",
   "id": "829517ad",
   "metadata": {},
   "source": [
    "<h3><li> Accuracy measure </li></h3>"
   ]
  },
  {
   "cell_type": "code",
   "execution_count": 14,
   "id": "42b5fd91",
   "metadata": {},
   "outputs": [
    {
     "data": {
      "text/plain": [
       "0.9736842105263158"
      ]
     },
     "execution_count": 14,
     "metadata": {},
     "output_type": "execute_result"
    }
   ],
   "source": [
    "svc.score(X_test,y_test)"
   ]
  },
  {
   "cell_type": "code",
   "execution_count": 15,
   "id": "f32d0edd",
   "metadata": {},
   "outputs": [
    {
     "data": {
      "image/png": "[encoded data removed]",
      "text/plain": [
       "<Figure size 936x360 with 2 Axes>"
      ]
     },
     "metadata": {
      "needs_background": "light"
     },
     "output_type": "display_data"
    }
   ],
   "source": [
    "from sklearn.metrics import confusion_matrix\n",
    "cn=confusion_matrix(y_test,y_pred)\n",
    "plt.figure(figsize=(13,5))\n",
    "names=['Iris-Setosa', 'Iris-Versicolor', 'Iris-Virginica']\n",
    "sns.heatmap(cn,annot=True,cmap='RdYlGn',xticklabels=names, yticklabels=names)\n",
    "plt.title('Confusion Matrix',fontsize=18)\n",
    "plt.xlabel('Actual Class')\n",
    "plt.ylabel('Predicted Class')\n",
    "plt.show()"
   ]
  },
  {
   "cell_type": "markdown",
   "id": "2cefc6da",
   "metadata": {},
   "source": [
    "<b><li>The model R2 score is 97 percent implying our model's accuracy is 97%, which is a pretty good score.</li>\n",
    "    <li>From the confusion matrix we can see how many times our model predicted the right and wrong classes respectively.</b>"
   ]
  },
  {
   "cell_type": "markdown",
   "id": "39a040d6",
   "metadata": {},
   "source": [
    "<h3><li> Model tuning </li></h3>"
   ]
  },
  {
   "cell_type": "code",
   "execution_count": 16,
   "id": "78fbc982",
   "metadata": {},
   "outputs": [
    {
     "data": {
      "text/plain": [
       "0.9736842105263158"
      ]
     },
     "execution_count": 16,
     "metadata": {},
     "output_type": "execute_result"
    }
   ],
   "source": [
    "svc_c=SVC(C=7)\n",
    "svc_c.fit(X_train,y_train)\n",
    "svc_c.score(X_test,y_test)"
   ]
  },
  {
   "cell_type": "code",
   "execution_count": 17,
   "id": "c3eeda34",
   "metadata": {},
   "outputs": [
    {
     "data": {
      "text/plain": [
       "0.9473684210526315"
      ]
     },
     "execution_count": 17,
     "metadata": {},
     "output_type": "execute_result"
    }
   ],
   "source": [
    "svc_g=SVC(gamma=10)\n",
    "svc_g.fit(X_train,y_train)\n",
    "svc_g.score(X_test,y_test)"
   ]
  },
  {
   "cell_type": "markdown",
   "id": "6761aa60",
   "metadata": {},
   "source": [
    "Remark:\n",
    "Using C=7, gives high regularizationand better prediction score than the default\n",
    "Using gamma=7, gives high regularizationand better prediction score than the default\n",
    "C=7 gives better accuracy"
   ]
  },
  {
   "cell_type": "markdown",
   "id": "8d159379",
   "metadata": {},
   "source": [
    "<h3><li> Prediction </li></h3>"
   ]
  },
  {
   "cell_type": "code",
   "execution_count": 18,
   "id": "4d48aed9",
   "metadata": {},
   "outputs": [
    {
     "name": "stdout",
     "output_type": "stream",
     "text": [
      "Enter sepal length,width,petal length, width in cm seperated by comma5.1,3.5,1.4,0.2\t\t\n",
      "[5.1, 3.5, 1.4, 0.2]\n",
      "Iris Setosa\n"
     ]
    }
   ],
   "source": [
    "inp_data=input('Enter sepal length,width,petal length, width in cm seperated by comma')\n",
    "inp=inp_data.split(',')\n",
    "inp1=[]\n",
    "for i in inp:\n",
    "    inp1.append(float(i))\n",
    "print(inp1)\n",
    "ita=svc.predict([inp1])\n",
    "if ita==0:\n",
    "    print('Iris Setosa')\n",
    "elif ita==1:\n",
    "    print('Iris Versicolor')\n",
    "else:\n",
    "    print('Iris Virginica')"
   ]
  },
  {
   "cell_type": "markdown",
   "id": "7eba7895",
   "metadata": {},
   "source": [
    "<h1> Thank You! </h1>"
   ]
  }
 ],
 "metadata": {
  "kernelspec": {
   "display_name": "Python 3 (ipykernel)",
   "language": "python",
   "name": "python3"
  },
  "language_info": {
   "codemirror_mode": {
    "name": "ipython",
    "version": 3
   },
   "file_extension": ".py",
   "mimetype": "text/x-python",
   "name": "python",
   "nbconvert_exporter": "python",
   "pygments_lexer": "ipython3",
   "version": "3.9.6"
  }
 },
 "nbformat": 4,
 "nbformat_minor": 5
}
